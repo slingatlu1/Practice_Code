{
 "cells": [
  {
   "cell_type": "markdown",
   "id": "a3f2feba",
   "metadata": {},
   "source": [
    "Importing Libraries"
   ]
  },
  {
   "cell_type": "code",
   "execution_count": 2,
   "id": "674b6a20",
   "metadata": {},
   "outputs": [],
   "source": [
    "import pandas as pd \n",
    "import numpy as np \n",
    "import matplotlib.pyplot as plt\n",
    "import seaborn as sns"
   ]
  },
  {
   "cell_type": "markdown",
   "id": "e7119d2f",
   "metadata": {},
   "source": [
    "Importing Data (More information about data in this website: https://www.kaggle.com/competitions/titanic/data)"
   ]
  },
  {
   "cell_type": "code",
   "execution_count": 20,
   "id": "9fbc2fa6",
   "metadata": {},
   "outputs": [],
   "source": [
    "Titanic_Train = pd.read_csv(\"C:/Users/sidli/Downloads/Python_Projects/Machine_Learning_Practice/Data/Titanic_Survival/train.csv\")\n",
    "Titanic_Test = pd.read_csv(\"C:/Users/sidli/Downloads/Python_Projects/Machine_Learning_Practice/Data/Titanic_Survival/test.csv\")"
   ]
  },
  {
   "cell_type": "markdown",
   "id": "2e7e1866",
   "metadata": {},
   "source": [
    "View Train and Test File"
   ]
  },
  {
   "cell_type": "code",
   "execution_count": 5,
   "id": "3e90ad59",
   "metadata": {},
   "outputs": [
    {
     "name": "stdout",
     "output_type": "stream",
     "text": [
      "   PassengerId  Survived  Pclass  \\\n",
      "0            1         0       3   \n",
      "1            2         1       1   \n",
      "2            3         1       3   \n",
      "3            4         1       1   \n",
      "4            5         0       3   \n",
      "\n",
      "                                                Name     Sex   Age  SibSp  \\\n",
      "0                            Braund, Mr. Owen Harris    male  22.0      1   \n",
      "1  Cumings, Mrs. John Bradley (Florence Briggs Th...  female  38.0      1   \n",
      "2                             Heikkinen, Miss. Laina  female  26.0      0   \n",
      "3       Futrelle, Mrs. Jacques Heath (Lily May Peel)  female  35.0      1   \n",
      "4                           Allen, Mr. William Henry    male  35.0      0   \n",
      "\n",
      "   Parch            Ticket     Fare Cabin Embarked  \n",
      "0      0         A/5 21171   7.2500   NaN        S  \n",
      "1      0          PC 17599  71.2833   C85        C  \n",
      "2      0  STON/O2. 3101282   7.9250   NaN        S  \n",
      "3      0            113803  53.1000  C123        S  \n",
      "4      0            373450   8.0500   NaN        S  \n"
     ]
    }
   ],
   "source": [
    "print(Titanic_Train.head())"
   ]
  },
  {
   "cell_type": "code",
   "execution_count": 17,
   "id": "5e39af5b",
   "metadata": {},
   "outputs": [
    {
     "name": "stdout",
     "output_type": "stream",
     "text": [
      "   PassengerId  Pclass                                          Name     Sex  \\\n",
      "0          892       3                              Kelly, Mr. James    male   \n",
      "1          893       3              Wilkes, Mrs. James (Ellen Needs)  female   \n",
      "2          894       2                     Myles, Mr. Thomas Francis    male   \n",
      "3          895       3                              Wirz, Mr. Albert    male   \n",
      "4          896       3  Hirvonen, Mrs. Alexander (Helga E Lindqvist)  female   \n",
      "\n",
      "    Age  SibSp  Parch   Ticket     Fare Cabin Embarked  \n",
      "0  34.5      0      0   330911   7.8292   NaN        Q  \n",
      "1  47.0      1      0   363272   7.0000   NaN        S  \n",
      "2  62.0      0      0   240276   9.6875   NaN        Q  \n",
      "3  27.0      0      0   315154   8.6625   NaN        S  \n",
      "4  22.0      1      1  3101298  12.2875   NaN        S  \n"
     ]
    }
   ],
   "source": [
    "print(Titanic_Test.head())"
   ]
  },
  {
   "cell_type": "markdown",
   "id": "d75832a1",
   "metadata": {},
   "source": [
    "Columns that do not matter: Name, Ticket, Cabin, Embarked. Remove these columns. (Not doing this until the feature optimization step)\n",
    "Convert <Sex> column into numbers (<male = 0> and <female = 1>).\n",
    "Move <Survived> column to the end. "
   ]
  },
  {
   "cell_type": "markdown",
   "id": "2974534f",
   "metadata": {},
   "source": [
    "Initial Data Processing"
   ]
  },
  {
   "cell_type": "code",
   "execution_count": 45,
   "id": "8ccbbb82",
   "metadata": {},
   "outputs": [
    {
     "name": "stdout",
     "output_type": "stream",
     "text": [
      "0      0\n",
      "1      1\n",
      "2      1\n",
      "3      1\n",
      "4      0\n",
      "      ..\n",
      "886    0\n",
      "887    1\n",
      "888    0\n",
      "889    1\n",
      "890    0\n",
      "Name: Survived, Length: 891, dtype: int64\n"
     ]
    }
   ],
   "source": [
    "# 1. Dropping unnecessary columns (Not doing this anymore)\n",
    "#Titanic_Train_edited = Titanic_Train.drop(columns=[\"Name\", \"Ticket\", \"Cabin\", \"Embarked\"])\n",
    "\n",
    "# 2. Converting 'Sex' column to numeric (male=0, female=1)\n",
    "Titanic_Train[\"Sex\"] = Titanic_Train[\"Sex\"].map({\"male\": 0, \"female\": 1})\n",
    "\n",
    "# 3. Moving 'Survived' column to the end\n",
    "survived_train = Titanic_Train.pop(\"Survived\")\n",
    "Titanic_Train[\"Survived\"] = survived_train\n",
    "\n",
    "# 4. Dropping 'Survived' column for now\n",
    "survived_train_drop = Titanic_Train.drop(\"Survived\", axis=1)\n",
    "\n",
    "# 5. Replicate for test set\n",
    "#Titanic_Test_edited = Titanic_Test.drop(columns=[\"Name\", \"Ticket\", \"Cabin\", \"Embarked\"])\n",
    "Titanic_Test[\"Sex\"] = Titanic_Test[\"Sex\"].map({\"male\": 0, \"female\": 1})\n",
    "\n",
    "# 6. Concatenate train and test sets and reset index\n",
    "Titanic_Combined = pd.concat([survived_train_drop, Titanic_Test], axis=0, ignore_index=True)\n",
    "\n",
    "print(survived_train)"
   ]
  },
  {
   "cell_type": "code",
   "execution_count": 46,
   "id": "bad0eba4",
   "metadata": {},
   "outputs": [
    {
     "name": "stdout",
     "output_type": "stream",
     "text": [
      "   PassengerId  Pclass                                               Name  \\\n",
      "0            1       3                            Braund, Mr. Owen Harris   \n",
      "1            2       1  Cumings, Mrs. John Bradley (Florence Briggs Th...   \n",
      "2            3       3                             Heikkinen, Miss. Laina   \n",
      "3            4       1       Futrelle, Mrs. Jacques Heath (Lily May Peel)   \n",
      "4            5       3                           Allen, Mr. William Henry   \n",
      "\n",
      "   Sex   Age  SibSp  Parch            Ticket     Fare Cabin Embarked  \n",
      "0    0  22.0      1      0         A/5 21171   7.2500   NaN        S  \n",
      "1    1  38.0      1      0          PC 17599  71.2833   C85        C  \n",
      "2    1  26.0      0      0  STON/O2. 3101282   7.9250   NaN        S  \n",
      "3    1  35.0      1      0            113803  53.1000  C123        S  \n",
      "4    0  35.0      0      0            373450   8.0500   NaN        S  \n"
     ]
    }
   ],
   "source": [
    "print(Titanic_Combined.head())"
   ]
  },
  {
   "cell_type": "markdown",
   "id": "60d960b6",
   "metadata": {},
   "source": [
    "Checking for Missing Values"
   ]
  },
  {
   "cell_type": "code",
   "execution_count": 47,
   "id": "d71fb00a",
   "metadata": {},
   "outputs": [
    {
     "name": "stdout",
     "output_type": "stream",
     "text": [
      "PassengerId       0\n",
      "Pclass            0\n",
      "Name              0\n",
      "Sex               0\n",
      "Age             263\n",
      "SibSp             0\n",
      "Parch             0\n",
      "Ticket            0\n",
      "Fare              1\n",
      "Cabin          1014\n",
      "Embarked          2\n",
      "dtype: int64\n"
     ]
    }
   ],
   "source": [
    "print(Titanic_Combined.isnull().sum())"
   ]
  },
  {
   "cell_type": "markdown",
   "id": "397df94a",
   "metadata": {},
   "source": [
    "Note: Age has 263 missing values. Fare has 1 missing value. Embarked has 2 missing values. Cabin has 1014 missing values. "
   ]
  },
  {
   "cell_type": "markdown",
   "id": "03ec24d5",
   "metadata": {},
   "source": [
    "Visualizing Age Distribution Per Pclass"
   ]
  },
  {
   "cell_type": "code",
   "execution_count": 41,
   "id": "874af15e",
   "metadata": {},
   "outputs": [
    {
     "data": {
      "image/png": "[encoded data removed]",
      "text/plain": [
       "<Figure size 1000x500 with 1 Axes>"
      ]
     },
     "metadata": {},
     "output_type": "display_data"
    },
    {
     "data": {
      "image/png": "[encoded data removed]",
      "text/plain": [
       "<Figure size 1000x500 with 1 Axes>"
      ]
     },
     "metadata": {},
     "output_type": "display_data"
    },
    {
     "data": {
      "image/png": "[encoded data removed]",
      "text/plain": [
       "<Figure size 1000x500 with 1 Axes>"
      ]
     },
     "metadata": {},
     "output_type": "display_data"
    },
    {
     "data": {
      "image/png": "[encoded data removed]",
      "text/plain": [
       "<Figure size 1000x500 with 1 Axes>"
      ]
     },
     "metadata": {},
     "output_type": "display_data"
    }
   ],
   "source": [
    "# 4. Visualizing Data\n",
    "\n",
    "y = Titanic_Combined[\"Age\"].value_counts()\n",
    "x = y.index.values\n",
    "\n",
    "plt.figure(figsize=(10, 5))\n",
    "plt.bar(x, y)\n",
    "plt.title(\"Age Distribution\")\n",
    "plt.show()\n",
    "\n",
    "class_age = Titanic_Combined[[\"Pclass\", \"Age\"]]\n",
    "\n",
    "for i in range(1, 4):\n",
    "    plt.figure(figsize=(10, 5))\n",
    "    plt.title(\" Class \" + str(i))\n",
    "    y = class_age[class_age[\"Pclass\"] == i][\"Age\"].value_counts()\n",
    "    x = y.index.values\n",
    "    plt.bar(x, y)\n",
    "    plt.xlabel(\"Age\")\n",
    "    plt.ylabel(\"Count\")\n",
    "    plt.show()\n"
   ]
  },
  {
   "cell_type": "markdown",
   "id": "54d5a41c",
   "metadata": {},
   "source": [
    "Plot Two and Plot Three are skewed. We will use medians to infer average ages per class. "
   ]
  },
  {
   "cell_type": "code",
   "execution_count": 42,
   "id": "77736d63",
   "metadata": {},
   "outputs": [
    {
     "name": "stdout",
     "output_type": "stream",
     "text": [
      "         Age\n",
      "Pclass      \n",
      "1       39.0\n",
      "2       29.0\n",
      "3       24.0\n"
     ]
    }
   ],
   "source": [
    "medians = class_age.groupby(\"Pclass\").median()\n",
    "print(medians)"
   ]
  },
  {
   "cell_type": "markdown",
   "id": "b29c0c9e",
   "metadata": {},
   "source": [
    "Filling in Missing Values"
   ]
  },
  {
   "cell_type": "code",
   "execution_count": 43,
   "id": "0dc598f5",
   "metadata": {},
   "outputs": [
    {
     "data": {
      "application/vnd.microsoft.datawrangler.viewer.v0+json": {
       "columns": [
        {
         "name": "index",
         "rawType": "int64",
         "type": "integer"
        },
        {
         "name": "PassengerId",
         "rawType": "int64",
         "type": "integer"
        },
        {
         "name": "Pclass",
         "rawType": "int64",
         "type": "integer"
        },
        {
         "name": "Sex",
         "rawType": "int64",
         "type": "integer"
        },
        {
         "name": "Age",
         "rawType": "float64",
         "type": "float"
        },
        {
         "name": "SibSp",
         "rawType": "int64",
         "type": "integer"
        },
        {
         "name": "Parch",
         "rawType": "int64",
         "type": "integer"
        },
        {
         "name": "Fare",
         "rawType": "float64",
         "type": "float"
        }
       ],
       "ref": "bf7fa456-d470-47e5-9d9e-a39348e354fb",
       "rows": [
        [
         "0",
         "1",
         "3",
         "0",
         "22.0",
         "1",
         "0",
         "7.25"
        ],
        [
         "1",
         "2",
         "1",
         "1",
         "38.0",
         "1",
         "0",
         "71.2833"
        ],
        [
         "2",
         "3",
         "3",
         "1",
         "26.0",
         "0",
         "0",
         "7.925"
        ],
        [
         "3",
         "4",
         "1",
         "1",
         "35.0",
         "1",
         "0",
         "53.1"
        ],
        [
         "4",
         "5",
         "3",
         "0",
         "35.0",
         "0",
         "0",
         "8.05"
        ],
        [
         "5",
         "6",
         "3",
         "0",
         "24.0",
         "0",
         "0",
         "8.4583"
        ],
        [
         "6",
         "7",
         "1",
         "0",
         "54.0",
         "0",
         "0",
         "51.8625"
        ],
        [
         "7",
         "8",
         "3",
         "0",
         "2.0",
         "3",
         "1",
         "21.075"
        ],
        [
         "8",
         "9",
         "3",
         "1",
         "27.0",
         "0",
         "2",
         "11.1333"
        ],
        [
         "9",
         "10",
         "2",
         "1",
         "14.0",
         "1",
         "0",
         "30.0708"
        ],
        [
         "10",
         "11",
         "3",
         "1",
         "4.0",
         "1",
         "1",
         "16.7"
        ],
        [
         "11",
         "12",
         "1",
         "1",
         "58.0",
         "0",
         "0",
         "26.55"
        ],
        [
         "12",
         "13",
         "3",
         "0",
         "20.0",
         "0",
         "0",
         "8.05"
        ],
        [
         "13",
         "14",
         "3",
         "0",
         "39.0",
         "1",
         "5",
         "31.275"
        ],
        [
         "14",
         "15",
         "3",
         "1",
         "14.0",
         "0",
         "0",
         "7.8542"
        ],
        [
         "15",
         "16",
         "2",
         "1",
         "55.0",
         "0",
         "0",
         "16.0"
        ],
        [
         "16",
         "17",
         "3",
         "0",
         "2.0",
         "4",
         "1",
         "29.125"
        ],
        [
         "17",
         "18",
         "2",
         "0",
         "29.0",
         "0",
         "0",
         "13.0"
        ],
        [
         "18",
         "19",
         "3",
         "1",
         "31.0",
         "1",
         "0",
         "18.0"
        ],
        [
         "19",
         "20",
         "3",
         "1",
         "24.0",
         "0",
         "0",
         "7.225"
        ],
        [
         "20",
         "21",
         "2",
         "0",
         "35.0",
         "0",
         "0",
         "26.0"
        ],
        [
         "21",
         "22",
         "2",
         "0",
         "34.0",
         "0",
         "0",
         "13.0"
        ],
        [
         "22",
         "23",
         "3",
         "1",
         "15.0",
         "0",
         "0",
         "8.0292"
        ],
        [
         "23",
         "24",
         "1",
         "0",
         "28.0",
         "0",
         "0",
         "35.5"
        ],
        [
         "24",
         "25",
         "3",
         "1",
         "8.0",
         "3",
         "1",
         "21.075"
        ],
        [
         "25",
         "26",
         "3",
         "1",
         "38.0",
         "1",
         "5",
         "31.3875"
        ],
        [
         "26",
         "27",
         "3",
         "0",
         "24.0",
         "0",
         "0",
         "7.225"
        ],
        [
         "27",
         "28",
         "1",
         "0",
         "19.0",
         "3",
         "2",
         "263.0"
        ],
        [
         "28",
         "29",
         "3",
         "1",
         "24.0",
         "0",
         "0",
         "7.8792"
        ],
        [
         "29",
         "30",
         "3",
         "0",
         "24.0",
         "0",
         "0",
         "7.8958"
        ],
        [
         "30",
         "31",
         "1",
         "0",
         "40.0",
         "0",
         "0",
         "27.7208"
        ],
        [
         "31",
         "32",
         "1",
         "1",
         "39.0",
         "1",
         "0",
         "146.5208"
        ],
        [
         "32",
         "33",
         "3",
         "1",
         "24.0",
         "0",
         "0",
         "7.75"
        ],
        [
         "33",
         "34",
         "2",
         "0",
         "66.0",
         "0",
         "0",
         "10.5"
        ],
        [
         "34",
         "35",
         "1",
         "0",
         "28.0",
         "1",
         "0",
         "82.1708"
        ],
        [
         "35",
         "36",
         "1",
         "0",
         "42.0",
         "1",
         "0",
         "52.0"
        ],
        [
         "36",
         "37",
         "3",
         "0",
         "24.0",
         "0",
         "0",
         "7.2292"
        ],
        [
         "37",
         "38",
         "3",
         "0",
         "21.0",
         "0",
         "0",
         "8.05"
        ],
        [
         "38",
         "39",
         "3",
         "1",
         "18.0",
         "2",
         "0",
         "18.0"
        ],
        [
         "39",
         "40",
         "3",
         "1",
         "14.0",
         "1",
         "0",
         "11.2417"
        ],
        [
         "40",
         "41",
         "3",
         "1",
         "40.0",
         "1",
         "0",
         "9.475"
        ],
        [
         "41",
         "42",
         "2",
         "1",
         "27.0",
         "1",
         "0",
         "21.0"
        ],
        [
         "42",
         "43",
         "3",
         "0",
         "24.0",
         "0",
         "0",
         "7.8958"
        ],
        [
         "43",
         "44",
         "2",
         "1",
         "3.0",
         "1",
         "2",
         "41.5792"
        ],
        [
         "44",
         "45",
         "3",
         "1",
         "19.0",
         "0",
         "0",
         "7.8792"
        ],
        [
         "45",
         "46",
         "3",
         "0",
         "24.0",
         "0",
         "0",
         "8.05"
        ],
        [
         "46",
         "47",
         "3",
         "0",
         "24.0",
         "1",
         "0",
         "15.5"
        ],
        [
         "47",
         "48",
         "3",
         "1",
         "24.0",
         "0",
         "0",
         "7.75"
        ],
        [
         "48",
         "49",
         "3",
         "0",
         "24.0",
         "2",
         "0",
         "21.6792"
        ],
        [
         "49",
         "50",
         "3",
         "1",
         "18.0",
         "1",
         "0",
         "17.8"
        ]
       ],
       "shape": {
        "columns": 7,
        "rows": 1309
       }
      },
      "text/html": [
       "<div>\n",
       "<style scoped>\n",
       "    .dataframe tbody tr th:only-of-type {\n",
       "        vertical-align: middle;\n",
       "    }\n",
       "\n",
       "    .dataframe tbody tr th {\n",
       "        vertical-align: top;\n",
       "    }\n",
       "\n",
       "    .dataframe thead th {\n",
       "        text-align: right;\n",
       "    }\n",
       "</style>\n",
       "<table border=\"1\" class=\"dataframe\">\n",
       "  <thead>\n",
       "    <tr style=\"text-align: right;\">\n",
       "      <th></th>\n",
       "      <th>PassengerId</th>\n",
       "      <th>Pclass</th>\n",
       "      <th>Sex</th>\n",
       "      <th>Age</th>\n",
       "      <th>SibSp</th>\n",
       "      <th>Parch</th>\n",
       "      <th>Fare</th>\n",
       "    </tr>\n",
       "  </thead>\n",
       "  <tbody>\n",
       "    <tr>\n",
       "      <th>0</th>\n",
       "      <td>1</td>\n",
       "      <td>3</td>\n",
       "      <td>0</td>\n",
       "      <td>22.0</td>\n",
       "      <td>1</td>\n",
       "      <td>0</td>\n",
       "      <td>7.2500</td>\n",
       "    </tr>\n",
       "    <tr>\n",
       "      <th>1</th>\n",
       "      <td>2</td>\n",
       "      <td>1</td>\n",
       "      <td>1</td>\n",
       "      <td>38.0</td>\n",
       "      <td>1</td>\n",
       "      <td>0</td>\n",
       "      <td>71.2833</td>\n",
       "    </tr>\n",
       "    <tr>\n",
       "      <th>2</th>\n",
       "      <td>3</td>\n",
       "      <td>3</td>\n",
       "      <td>1</td>\n",
       "      <td>26.0</td>\n",
       "      <td>0</td>\n",
       "      <td>0</td>\n",
       "      <td>7.9250</td>\n",
       "    </tr>\n",
       "    <tr>\n",
       "      <th>3</th>\n",
       "      <td>4</td>\n",
       "      <td>1</td>\n",
       "      <td>1</td>\n",
       "      <td>35.0</td>\n",
       "      <td>1</td>\n",
       "      <td>0</td>\n",
       "      <td>53.1000</td>\n",
       "    </tr>\n",
       "    <tr>\n",
       "      <th>4</th>\n",
       "      <td>5</td>\n",
       "      <td>3</td>\n",
       "      <td>0</td>\n",
       "      <td>35.0</td>\n",
       "      <td>0</td>\n",
       "      <td>0</td>\n",
       "      <td>8.0500</td>\n",
       "    </tr>\n",
       "    <tr>\n",
       "      <th>...</th>\n",
       "      <td>...</td>\n",
       "      <td>...</td>\n",
       "      <td>...</td>\n",
       "      <td>...</td>\n",
       "      <td>...</td>\n",
       "      <td>...</td>\n",
       "      <td>...</td>\n",
       "    </tr>\n",
       "    <tr>\n",
       "      <th>1304</th>\n",
       "      <td>1305</td>\n",
       "      <td>3</td>\n",
       "      <td>0</td>\n",
       "      <td>24.0</td>\n",
       "      <td>0</td>\n",
       "      <td>0</td>\n",
       "      <td>8.0500</td>\n",
       "    </tr>\n",
       "    <tr>\n",
       "      <th>1305</th>\n",
       "      <td>1306</td>\n",
       "      <td>1</td>\n",
       "      <td>1</td>\n",
       "      <td>39.0</td>\n",
       "      <td>0</td>\n",
       "      <td>0</td>\n",
       "      <td>108.9000</td>\n",
       "    </tr>\n",
       "    <tr>\n",
       "      <th>1306</th>\n",
       "      <td>1307</td>\n",
       "      <td>3</td>\n",
       "      <td>0</td>\n",
       "      <td>38.5</td>\n",
       "      <td>0</td>\n",
       "      <td>0</td>\n",
       "      <td>7.2500</td>\n",
       "    </tr>\n",
       "    <tr>\n",
       "      <th>1307</th>\n",
       "      <td>1308</td>\n",
       "      <td>3</td>\n",
       "      <td>0</td>\n",
       "      <td>24.0</td>\n",
       "      <td>0</td>\n",
       "      <td>0</td>\n",
       "      <td>8.0500</td>\n",
       "    </tr>\n",
       "    <tr>\n",
       "      <th>1308</th>\n",
       "      <td>1309</td>\n",
       "      <td>3</td>\n",
       "      <td>0</td>\n",
       "      <td>24.0</td>\n",
       "      <td>1</td>\n",
       "      <td>1</td>\n",
       "      <td>22.3583</td>\n",
       "    </tr>\n",
       "  </tbody>\n",
       "</table>\n",
       "<p>1309 rows × 7 columns</p>\n",
       "</div>"
      ],
      "text/plain": [
       "      PassengerId  Pclass  Sex   Age  SibSp  Parch      Fare\n",
       "0               1       3    0  22.0      1      0    7.2500\n",
       "1               2       1    1  38.0      1      0   71.2833\n",
       "2               3       3    1  26.0      0      0    7.9250\n",
       "3               4       1    1  35.0      1      0   53.1000\n",
       "4               5       3    0  35.0      0      0    8.0500\n",
       "...           ...     ...  ...   ...    ...    ...       ...\n",
       "1304         1305       3    0  24.0      0      0    8.0500\n",
       "1305         1306       1    1  39.0      0      0  108.9000\n",
       "1306         1307       3    0  38.5      0      0    7.2500\n",
       "1307         1308       3    0  24.0      0      0    8.0500\n",
       "1308         1309       3    0  24.0      1      1   22.3583\n",
       "\n",
       "[1309 rows x 7 columns]"
      ]
     },
     "metadata": {},
     "output_type": "display_data"
    }
   ],
   "source": [
    "for i in range(3): \n",
    "    idx = np.where((Titanic_Combined[\"Pclass\"] == i + 1) & (Titanic_Combined[\"Age\"].isnull()))[0]\n",
    "    Titanic_Combined.loc[idx, \"Age\"] = medians.values[i][0]\n",
    "\n",
    "display(Titanic_Combined)"
   ]
  },
  {
   "cell_type": "markdown",
   "id": "7783d74b",
   "metadata": {},
   "source": [
    "Checking for Missing Values Again"
   ]
  },
  {
   "cell_type": "code",
   "execution_count": null,
   "id": "7848a0db",
   "metadata": {},
   "outputs": [],
   "source": [
    "print(Titanic_Combined.isnull().sum())"
   ]
  }
 ],
 "metadata": {
  "kernelspec": {
   "display_name": "base",
   "language": "python",
   "name": "python3"
  },
  "language_info": {
   "codemirror_mode": {
    "name": "ipython",
    "version": 3
   },
   "file_extension": ".py",
   "mimetype": "text/x-python",
   "name": "python",
   "nbconvert_exporter": "python",
   "pygments_lexer": "ipython3",
   "version": "3.13.5"
  }
 },
 "nbformat": 4,
 "nbformat_minor": 5
}
