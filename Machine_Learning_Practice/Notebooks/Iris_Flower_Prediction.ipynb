{
 "cells": [
  {
   "cell_type": "markdown",
   "id": "9036d869",
   "metadata": {},
   "source": [
    "Importing Libraries"
   ]
  },
  {
   "cell_type": "code",
   "execution_count": 2,
   "id": "7d863f61",
   "metadata": {},
   "outputs": [],
   "source": [
    "import pandas as pd\n",
    "import numpy as np\n",
    "import matplotlib.pyplot as plt\n",
    "import seaborn as sns"
   ]
  },
  {
   "cell_type": "markdown",
   "id": "d8f7c17f",
   "metadata": {},
   "source": [
    "Importing File"
   ]
  },
  {
   "cell_type": "code",
   "execution_count": 3,
   "id": "db85da93",
   "metadata": {},
   "outputs": [
    {
     "name": "stdout",
     "output_type": "stream",
     "text": [
      "   Id  SepalLengthCm  SepalWidthCm  PetalLengthCm  PetalWidthCm      Species\n",
      "0   1            5.1           3.5            1.4           0.2  Iris-setosa\n",
      "1   2            4.9           3.0            1.4           0.2  Iris-setosa\n",
      "2   3            4.7           3.2            1.3           0.2  Iris-setosa\n",
      "3   4            4.6           3.1            1.5           0.2  Iris-setosa\n",
      "4   5            5.0           3.6            1.4           0.2  Iris-setosa\n"
     ]
    }
   ],
   "source": [
    "Iris_data = pd.read_csv(r\"C:\\Users\\sidli\\Downloads\\Python_Projects\\Machine_Learning_Practice\\Data\\Iris.csv\") \n",
    "# r stands for raw string, it prevents escape characters from being processed\n",
    "# escape characters are used in file paths, like \\n for newline, \\t for tab, etc.\n",
    "print(Iris_data.head())"
   ]
  },
  {
   "cell_type": "markdown",
   "id": "eb0347e9",
   "metadata": {},
   "source": [
    "Visualization of Dataset"
   ]
  },
  {
   "cell_type": "code",
   "execution_count": 4,
   "id": "0e4a97ce",
   "metadata": {},
   "outputs": [
    {
     "data": {
      "application/vnd.microsoft.datawrangler.viewer.v0+json": {
       "columns": [
        {
         "name": "index",
         "rawType": "object",
         "type": "string"
        },
        {
         "name": "Id",
         "rawType": "float64",
         "type": "float"
        },
        {
         "name": "SepalLengthCm",
         "rawType": "float64",
         "type": "float"
        },
        {
         "name": "SepalWidthCm",
         "rawType": "float64",
         "type": "float"
        },
        {
         "name": "PetalLengthCm",
         "rawType": "float64",
         "type": "float"
        },
        {
         "name": "PetalWidthCm",
         "rawType": "float64",
         "type": "float"
        }
       ],
       "ref": "57bd386c-120c-43a0-80c3-76ccfb9a38e8",
       "rows": [
        [
         "count",
         "150.0",
         "150.0",
         "150.0",
         "150.0",
         "150.0"
        ],
        [
         "mean",
         "75.5",
         "5.843333333333334",
         "3.0540000000000003",
         "3.758666666666666",
         "1.1986666666666668"
        ],
        [
         "std",
         "43.445367992456916",
         "0.8280661279778629",
         "0.4335943113621737",
         "1.7644204199522617",
         "0.7631607417008414"
        ],
        [
         "min",
         "1.0",
         "4.3",
         "2.0",
         "1.0",
         "0.1"
        ],
        [
         "25%",
         "38.25",
         "5.1",
         "2.8",
         "1.6",
         "0.3"
        ],
        [
         "50%",
         "75.5",
         "5.8",
         "3.0",
         "4.35",
         "1.3"
        ],
        [
         "75%",
         "112.75",
         "6.4",
         "3.3",
         "5.1",
         "1.8"
        ],
        [
         "max",
         "150.0",
         "7.9",
         "4.4",
         "6.9",
         "2.5"
        ]
       ],
       "shape": {
        "columns": 5,
        "rows": 8
       }
      },
      "text/html": [
       "<div>\n",
       "<style scoped>\n",
       "    .dataframe tbody tr th:only-of-type {\n",
       "        vertical-align: middle;\n",
       "    }\n",
       "\n",
       "    .dataframe tbody tr th {\n",
       "        vertical-align: top;\n",
       "    }\n",
       "\n",
       "    .dataframe thead th {\n",
       "        text-align: right;\n",
       "    }\n",
       "</style>\n",
       "<table border=\"1\" class=\"dataframe\">\n",
       "  <thead>\n",
       "    <tr style=\"text-align: right;\">\n",
       "      <th></th>\n",
       "      <th>Id</th>\n",
       "      <th>SepalLengthCm</th>\n",
       "      <th>SepalWidthCm</th>\n",
       "      <th>PetalLengthCm</th>\n",
       "      <th>PetalWidthCm</th>\n",
       "    </tr>\n",
       "  </thead>\n",
       "  <tbody>\n",
       "    <tr>\n",
       "      <th>count</th>\n",
       "      <td>150.000000</td>\n",
       "      <td>150.000000</td>\n",
       "      <td>150.000000</td>\n",
       "      <td>150.000000</td>\n",
       "      <td>150.000000</td>\n",
       "    </tr>\n",
       "    <tr>\n",
       "      <th>mean</th>\n",
       "      <td>75.500000</td>\n",
       "      <td>5.843333</td>\n",
       "      <td>3.054000</td>\n",
       "      <td>3.758667</td>\n",
       "      <td>1.198667</td>\n",
       "    </tr>\n",
       "    <tr>\n",
       "      <th>std</th>\n",
       "      <td>43.445368</td>\n",
       "      <td>0.828066</td>\n",
       "      <td>0.433594</td>\n",
       "      <td>1.764420</td>\n",
       "      <td>0.763161</td>\n",
       "    </tr>\n",
       "    <tr>\n",
       "      <th>min</th>\n",
       "      <td>1.000000</td>\n",
       "      <td>4.300000</td>\n",
       "      <td>2.000000</td>\n",
       "      <td>1.000000</td>\n",
       "      <td>0.100000</td>\n",
       "    </tr>\n",
       "    <tr>\n",
       "      <th>25%</th>\n",
       "      <td>38.250000</td>\n",
       "      <td>5.100000</td>\n",
       "      <td>2.800000</td>\n",
       "      <td>1.600000</td>\n",
       "      <td>0.300000</td>\n",
       "    </tr>\n",
       "    <tr>\n",
       "      <th>50%</th>\n",
       "      <td>75.500000</td>\n",
       "      <td>5.800000</td>\n",
       "      <td>3.000000</td>\n",
       "      <td>4.350000</td>\n",
       "      <td>1.300000</td>\n",
       "    </tr>\n",
       "    <tr>\n",
       "      <th>75%</th>\n",
       "      <td>112.750000</td>\n",
       "      <td>6.400000</td>\n",
       "      <td>3.300000</td>\n",
       "      <td>5.100000</td>\n",
       "      <td>1.800000</td>\n",
       "    </tr>\n",
       "    <tr>\n",
       "      <th>max</th>\n",
       "      <td>150.000000</td>\n",
       "      <td>7.900000</td>\n",
       "      <td>4.400000</td>\n",
       "      <td>6.900000</td>\n",
       "      <td>2.500000</td>\n",
       "    </tr>\n",
       "  </tbody>\n",
       "</table>\n",
       "</div>"
      ],
      "text/plain": [
       "               Id  SepalLengthCm  SepalWidthCm  PetalLengthCm  PetalWidthCm\n",
       "count  150.000000     150.000000    150.000000     150.000000    150.000000\n",
       "mean    75.500000       5.843333      3.054000       3.758667      1.198667\n",
       "std     43.445368       0.828066      0.433594       1.764420      0.763161\n",
       "min      1.000000       4.300000      2.000000       1.000000      0.100000\n",
       "25%     38.250000       5.100000      2.800000       1.600000      0.300000\n",
       "50%     75.500000       5.800000      3.000000       4.350000      1.300000\n",
       "75%    112.750000       6.400000      3.300000       5.100000      1.800000\n",
       "max    150.000000       7.900000      4.400000       6.900000      2.500000"
      ]
     },
     "execution_count": 4,
     "metadata": {},
     "output_type": "execute_result"
    }
   ],
   "source": [
    "Iris_data.describe()"
   ]
  },
  {
   "cell_type": "code",
   "execution_count": null,
   "id": "6f9d1007",
   "metadata": {},
   "outputs": [],
   "source": [
    "sns.pairplot(Iris_data.iloc[:, 1:], hue='Species', markers=[\"o\", \"s\", \"D\"])\n",
    "plt.show()"
   ]
  },
  {
   "cell_type": "markdown",
   "id": "4ffa260c",
   "metadata": {},
   "source": [
    "Separating Input and Output Columns"
   ]
  },
  {
   "cell_type": "code",
   "execution_count": null,
   "id": "3a13d39e",
   "metadata": {},
   "outputs": [],
   "source": [
    "Iris_values = Iris_data.values\n",
    "X = Iris_values[:, 1:5]  # Input features (sepal length, sepal width, petal length, petal width)\n",
    "Y = Iris_values[:, 5]    # Output feature (species)"
   ]
  },
  {
   "cell_type": "code",
   "execution_count": null,
   "id": "1a8922d8",
   "metadata": {},
   "outputs": [],
   "source": [
    "print(X)"
   ]
  },
  {
   "cell_type": "code",
   "execution_count": null,
   "id": "220cc552",
   "metadata": {},
   "outputs": [],
   "source": [
    "print(Y)"
   ]
  },
  {
   "cell_type": "markdown",
   "id": "e776e248",
   "metadata": {},
   "source": [
    "Splitting the Data into Training and Testing"
   ]
  },
  {
   "cell_type": "code",
   "execution_count": null,
   "id": "667d4dea",
   "metadata": {},
   "outputs": [],
   "source": [
    "from sklearn.model_selection import train_test_split # Importing train_test_split from sklearn\n",
    "X_train, X_test, Y_train, Y_test = train_test_split(X, Y, test_size=0.2) # Splitting the original dataframe into training and testing sets\n",
    "print(Y_test)"
   ]
  },
  {
   "cell_type": "markdown",
   "id": "8c6b7fbe",
   "metadata": {},
   "source": [
    "Model 1: SVM Algorithm (Study)"
   ]
  },
  {
   "cell_type": "code",
   "execution_count": null,
   "id": "0148f946",
   "metadata": {},
   "outputs": [],
   "source": [
    "# Support Vector Machine (SVM) Algorithm\n",
    "from sklearn.svm import SVC\n",
    "model_svc = SVC(kernel='linear')  # Using a linear kernel for SVM\n",
    "model_svc.fit(X_train, Y_train)  # Training the SVM model\n",
    "predictions_svc = model_svc.predict(X_test)  # Making predictions on the test set\n",
    "from sklearn.metrics import accuracy_score, classification_report, confusion_matrix\n",
    "print(\"SVM Model Accuracy:\", accuracy_score(Y_test, predictions_svc))  # Printing the accuracy of the SVM model\n",
    "print(\"SVM Classification Report:\\n\", classification_report(Y_test, predictions_svc))  # Printing the classification report\n",
    "print(\"SVM Confusion Matrix:\\n\", confusion_matrix(Y_test, predictions_svc)) # Printing the confusion matrix \n",
    "# Printing Labelled Values vs Predicted Values\n",
    "for i in range(len(predictions_svc)):\n",
    "    print(f\"Labelled Value: {Y_test[i]}, Predicted Value: {predictions_svc[i]}\")"
   ]
  },
  {
   "cell_type": "markdown",
   "id": "e86c5690",
   "metadata": {},
   "source": [
    "Model 2: Logistic Regression (Study)"
   ]
  },
  {
   "cell_type": "code",
   "execution_count": null,
   "id": "86c5c7ad",
   "metadata": {},
   "outputs": [],
   "source": [
    "# Logistic Regression Algorithm\n",
    "from sklearn.linear_model import LogisticRegression\n",
    "model_lr = LogisticRegression(max_iter=200)  # Creating a logistic regression model with a maximum of 200 iterations\n",
    "model_lr.fit(X_train, Y_train)  # Training the logistic regression model\n",
    "predictions_lr = model_lr.predict(X_test)  # Making predictions on the test set\n",
    "print(\"Logistic Regression Model Accuracy:\", accuracy_score(Y_test, predictions_lr))  # Printing the accuracy of the logistic regression model\n",
    "print(\"Logistic Regression Classification Report:\\n\", classification_report(Y_test, predictions_lr))  # Printing the classification report\n",
    "print(\"Logistic Regression Confusion Matrix:\\n\", confusion_matrix(Y_test, predictions_lr))  # Printing Labelled Values vs Predicted Values\n",
    "for i in range(len(predictions_lr)):\n",
    "    print(f\"Labelled Value: {Y_test[i]}, Predicted Value: {predictions_lr[i]}\")  # Printing the labelled values vs predicted values"
   ]
  },
  {
   "cell_type": "markdown",
   "id": "d2e7f096",
   "metadata": {},
   "source": [
    "Model 3: Decision Tree (Study)"
   ]
  },
  {
   "cell_type": "code",
   "execution_count": null,
   "id": "f8811852",
   "metadata": {},
   "outputs": [],
   "source": [
    "# Decision Tree Algorithm\n",
    "from sklearn.tree import DecisionTreeClassifier\n",
    "model_dt = DecisionTreeClassifier()  # Creating a decision tree classifier\n",
    "model_dt.fit(X_train, Y_train)  # Training the decision tree model\n",
    "predictions_dt = model_dt.predict(X_test)  # Making predictions on the test set\n",
    "print(\"Decision Tree Model Accuracy:\", accuracy_score(Y_test, predictions_dt))  # Printing the accuracy of the decision tree model\n",
    "print(\"Decision Tree Classification Report:\\n\", classification_report(Y_test, predictions_dt))  # Printing the classification report\n",
    "print(\"Decision Tree Confusion Matrix:\\n\", confusion_matrix(Y_test, predictions_dt))  # Printing Labelled Values vs Predicted Values\n",
    "for i in range(len(predictions_dt)):\n",
    "    print(f\"Labelled Value: {Y_test[i]}, Predicted Value: {predictions_dt[i]}\")  # Printing the labelled values vs predicted values"
   ]
  },
  {
   "cell_type": "markdown",
   "id": "e9faec53",
   "metadata": {},
   "source": [
    "Prediction"
   ]
  },
  {
   "cell_type": "code",
   "execution_count": null,
   "id": "e3818dff",
   "metadata": {},
   "outputs": [],
   "source": [
    "random_samples = X[np.random.choice(X.shape[0], 3, replace=False)] # Randomly selecting 3 samples from the dataset\n",
    "prediction = model_svc.predict(random_samples)  # Making predictions on the random samples\n",
    "print(\"Prediction of Species: \", prediction)  # Printing the predicted species for the random samples"
   ]
  },
  {
   "cell_type": "markdown",
   "id": "dd57798d",
   "metadata": {},
   "source": [
    "Model 4: Random Forest Classifier (Study)"
   ]
  },
  {
   "cell_type": "code",
   "execution_count": null,
   "id": "e09fd232",
   "metadata": {},
   "outputs": [],
   "source": [
    "# Random Forest Classifier Algorithm\n",
    "from sklearn.ensemble import RandomForestClassifier\n",
    "model_rf = RandomForestClassifier(n_estimators=100)  # Creating a random forest classifier with 100 trees\n",
    "model_rf.fit(X_train, Y_train)  # Training the random forest model\n",
    "predictions_rf = model_rf.predict(X_test)  # Making predictions on the test set\n",
    "print(\"Random Forest Model Accuracy:\", accuracy_score(Y_test, predictions_rf))  # Printing the accuracy of the random forest model\n",
    "print(\"Random Forest Classification Report:\\n\", classification_report(Y_test, predictions_rf))  # Printing the classification report\n",
    "print(\"Random Forest Confusion Matrix:\\n\", confusion_matrix(Y_test, predictions_rf))  # Printing Labelled Values vs Predicted Values\n",
    "for i in range(len(predictions_rf)):\n",
    "    print(f\"Labelled Value: {Y_test[i]}, Predicted Value: {predictions_rf[i]}\")  # Printing the labelled values vs predicted values"
   ]
  }
 ],
 "metadata": {
  "kernelspec": {
   "display_name": "base",
   "language": "python",
   "name": "python3"
  },
  "language_info": {
   "codemirror_mode": {
    "name": "ipython",
    "version": 3
   },
   "file_extension": ".py",
   "mimetype": "text/x-python",
   "name": "python",
   "nbconvert_exporter": "python",
   "pygments_lexer": "ipython3",
   "version": "3.13.5"
  }
 },
 "nbformat": 4,
 "nbformat_minor": 5
}
